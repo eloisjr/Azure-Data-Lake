{
 "cells": [
  {
   "cell_type": "markdown",
   "metadata": {
    "application/vnd.databricks.v1+cell": {
     "cellMetadata": {
      "byteLimit": 2048000,
      "rowLimit": 10000
     },
     "inputWidgets": {},
     "nuid": "fa861711-ece8-4583-9975-c12dfc2cc76b",
     "showTitle": false,
     "title": ""
    }
   },
   "source": [
    "## Transform the data into the star schema for a Gold data store"
   ]
  },
  {
   "cell_type": "code",
   "execution_count": 0,
   "metadata": {
    "application/vnd.databricks.v1+cell": {
     "cellMetadata": {
      "byteLimit": 2048000,
      "rowLimit": 10000
     },
     "inputWidgets": {},
     "nuid": "bd1d7da3-294e-43f6-9471-d9ee1c7e52a0",
     "showTitle": false,
     "title": ""
    }
   },
   "outputs": [],
   "source": [
    "\n",
    "import pyspark.sql.functions as f\n",
    "from pyspark.sql.types import TimestampType\n",
    "from pyspark.sql.types import StringType\n",
    "from pyspark.sql.functions import *\n",
    "     "
   ]
  },
  {
   "cell_type": "markdown",
   "metadata": {
    "application/vnd.databricks.v1+cell": {
     "cellMetadata": {
      "byteLimit": 2048000,
      "rowLimit": 10000
     },
     "inputWidgets": {},
     "nuid": "e6650c9d-e0d9-4538-9265-ced86e4a03b6",
     "showTitle": false,
     "title": ""
    }
   },
   "source": [
    "##  fact_payment Table"
   ]
  },
  {
   "cell_type": "code",
   "execution_count": 0,
   "metadata": {
    "application/vnd.databricks.v1+cell": {
     "cellMetadata": {
      "byteLimit": 2048000,
      "rowLimit": 10000
     },
     "inputWidgets": {},
     "nuid": "85024110-6b5a-46c7-a862-bf67f3249d51",
     "showTitle": false,
     "title": ""
    }
   },
   "outputs": [
    {
     "output_type": "display_data",
     "data": {
      "text/html": [
       "<style scoped>\n",
       "  .table-result-container {\n",
       "    max-height: 300px;\n",
       "    overflow: auto;\n",
       "  }\n",
       "  table, th, td {\n",
       "    border: 1px solid black;\n",
       "    border-collapse: collapse;\n",
       "  }\n",
       "  th, td {\n",
       "    padding: 5px;\n",
       "  }\n",
       "  th {\n",
       "    text-align: left;\n",
       "  }\n",
       "</style><div class='table-result-container'><table class='table-result'><thead style='background-color: white'><tr><th>payment_id</th><th>payment_date</th><th>amount</th><th>rider_id</th></tr></thead><tbody><tr><td>2</td><td>2019-06-01</td><td>9.0</td><td>1000</td></tr><tr><td>3</td><td>2019-07-01</td><td>9.0</td><td>1000</td></tr><tr><td>4</td><td>2019-08-01</td><td>9.0</td><td>1000</td></tr><tr><td>5</td><td>2019-09-01</td><td>9.0</td><td>1000</td></tr><tr><td>6</td><td>2019-10-01</td><td>9.0</td><td>1000</td></tr></tbody></table></div>"
      ]
     },
     "metadata": {
      "application/vnd.databricks.v1+output": {
       "addedWidgets": {},
       "aggData": [],
       "aggError": "",
       "aggOverflow": false,
       "aggSchema": [],
       "aggSeriesLimitReached": false,
       "aggType": "",
       "arguments": {},
       "columnCustomDisplayInfos": {},
       "data": [
        [
         "2",
         "2019-06-01",
         "9.0",
         "1000"
        ],
        [
         "3",
         "2019-07-01",
         "9.0",
         "1000"
        ],
        [
         "4",
         "2019-08-01",
         "9.0",
         "1000"
        ],
        [
         "5",
         "2019-09-01",
         "9.0",
         "1000"
        ],
        [
         "6",
         "2019-10-01",
         "9.0",
         "1000"
        ]
       ],
       "datasetInfos": [],
       "dbfsResultPath": null,
       "isJsonSchema": true,
       "metadata": {},
       "overflow": false,
       "plotOptions": {
        "customPlotOptions": {},
        "displayType": "table",
        "pivotAggregation": null,
        "pivotColumns": null,
        "xColumns": null,
        "yColumns": null
       },
       "removedWidgets": [],
       "schema": [
        {
         "metadata": "{}",
         "name": "payment_id",
         "type": "\"string\""
        },
        {
         "metadata": "{}",
         "name": "payment_date",
         "type": "\"string\""
        },
        {
         "metadata": "{}",
         "name": "amount",
         "type": "\"string\""
        },
        {
         "metadata": "{}",
         "name": "rider_id",
         "type": "\"string\""
        }
       ],
       "type": "table"
      }
     },
     "output_type": "display_data"
    }
   ],
   "source": [
    "payments = spark.table(\"staging_payments\")\n",
    "display(payments.limit(5))"
   ]
  },
  {
   "cell_type": "code",
   "execution_count": 0,
   "metadata": {
    "application/vnd.databricks.v1+cell": {
     "cellMetadata": {
      "byteLimit": 2048000,
      "rowLimit": 10000
     },
     "inputWidgets": {},
     "nuid": "c1c492f8-d133-4730-8fe7-07027be21d3e",
     "showTitle": false,
     "title": ""
    }
   },
   "outputs": [],
   "source": [
    "spark.sql('DROP TABLE IF EXISTS fact_payment')\n",
    "payments.dropDuplicates(['payment_id']).write.format('delta').mode('overwrite').saveAsTable('fact_payment')"
   ]
  },
  {
   "cell_type": "code",
   "execution_count": 0,
   "metadata": {
    "application/vnd.databricks.v1+cell": {
     "cellMetadata": {
      "byteLimit": 2048000,
      "rowLimit": 10000
     },
     "inputWidgets": {},
     "nuid": "e2a65569-7945-462c-816c-ccdf50225c23",
     "showTitle": false,
     "title": ""
    }
   },
   "outputs": [
    {
     "output_type": "display_data",
     "data": {
      "text/html": [
       "<style scoped>\n",
       "  .table-result-container {\n",
       "    max-height: 300px;\n",
       "    overflow: auto;\n",
       "  }\n",
       "  table, th, td {\n",
       "    border: 1px solid black;\n",
       "    border-collapse: collapse;\n",
       "  }\n",
       "  th, td {\n",
       "    padding: 5px;\n",
       "  }\n",
       "  th {\n",
       "    text-align: left;\n",
       "  }\n",
       "</style><div class='table-result-container'><table class='table-result'><thead style='background-color: white'><tr><th>payment_id</th><th>payment_date</th><th>amount</th><th>rider_id</th></tr></thead><tbody><tr><td>296</td><td>2021-05-01</td><td>9.0</td><td>1011</td></tr><tr><td>467</td><td>2022-01-01</td><td>22.76</td><td>1018</td></tr><tr><td>675</td><td>2021-03-01</td><td>12.49</td><td>1029</td></tr><tr><td>691</td><td>2022-01-01</td><td>9.0</td><td>1030</td></tr><tr><td>829</td><td>2020-12-01</td><td>9.0</td><td>1035</td></tr></tbody></table></div>"
      ]
     },
     "metadata": {
      "application/vnd.databricks.v1+output": {
       "addedWidgets": {},
       "aggData": [],
       "aggError": "",
       "aggOverflow": false,
       "aggSchema": [],
       "aggSeriesLimitReached": false,
       "aggType": "",
       "arguments": {},
       "columnCustomDisplayInfos": {},
       "data": [
        [
         "296",
         "2021-05-01",
         "9.0",
         "1011"
        ],
        [
         "467",
         "2022-01-01",
         "22.76",
         "1018"
        ],
        [
         "675",
         "2021-03-01",
         "12.49",
         "1029"
        ],
        [
         "691",
         "2022-01-01",
         "9.0",
         "1030"
        ],
        [
         "829",
         "2020-12-01",
         "9.0",
         "1035"
        ]
       ],
       "datasetInfos": [],
       "dbfsResultPath": null,
       "isJsonSchema": true,
       "metadata": {},
       "overflow": false,
       "plotOptions": {
        "customPlotOptions": {},
        "displayType": "table",
        "pivotAggregation": null,
        "pivotColumns": null,
        "xColumns": null,
        "yColumns": null
       },
       "removedWidgets": [],
       "schema": [
        {
         "metadata": "{}",
         "name": "payment_id",
         "type": "\"string\""
        },
        {
         "metadata": "{}",
         "name": "payment_date",
         "type": "\"string\""
        },
        {
         "metadata": "{}",
         "name": "amount",
         "type": "\"string\""
        },
        {
         "metadata": "{}",
         "name": "rider_id",
         "type": "\"string\""
        }
       ],
       "type": "table"
      }
     },
     "output_type": "display_data"
    }
   ],
   "source": [
    "fact_payment= spark.table('fact_payment')\n",
    "display(fact_payment.limit(5))"
   ]
  },
  {
   "cell_type": "markdown",
   "metadata": {
    "application/vnd.databricks.v1+cell": {
     "cellMetadata": {
      "byteLimit": 2048000,
      "rowLimit": 10000
     },
     "inputWidgets": {},
     "nuid": "e0df33be-4cb0-48d1-aae7-56823d6543a8",
     "showTitle": false,
     "title": ""
    }
   },
   "source": [
    "## dim_station Table"
   ]
  },
  {
   "cell_type": "code",
   "execution_count": 0,
   "metadata": {
    "application/vnd.databricks.v1+cell": {
     "cellMetadata": {
      "byteLimit": 2048000,
      "rowLimit": 10000
     },
     "inputWidgets": {},
     "nuid": "13d450ab-9ebc-4db0-b70d-0840ab509cd9",
     "showTitle": false,
     "title": ""
    }
   },
   "outputs": [
    {
     "output_type": "display_data",
     "data": {
      "text/html": [
       "<style scoped>\n",
       "  .table-result-container {\n",
       "    max-height: 300px;\n",
       "    overflow: auto;\n",
       "  }\n",
       "  table, th, td {\n",
       "    border: 1px solid black;\n",
       "    border-collapse: collapse;\n",
       "  }\n",
       "  th, td {\n",
       "    padding: 5px;\n",
       "  }\n",
       "  th {\n",
       "    text-align: left;\n",
       "  }\n",
       "</style><div class='table-result-container'><table class='table-result'><thead style='background-color: white'><tr><th>station_id</th><th>name</th><th>latitude</th><th>longitude</th></tr></thead><tbody><tr><td>KA1503000012</td><td>Clark St & Lake St</td><td>41.88579466666667</td><td>-87.63110066666668</td></tr><tr><td>637</td><td>Wood St & Chicago Ave</td><td>41.895634</td><td>-87.672069</td></tr><tr><td>13216</td><td>State St & 33rd St</td><td>41.8347335</td><td>-87.6258275</td></tr><tr><td>18003</td><td>Fairbanks St & Superior St</td><td>41.89580766666667</td><td>-87.62025316666669</td></tr><tr><td>KP1705001026</td><td>LaSalle Dr & Huron St</td><td>41.894877</td><td>-87.632326</td></tr><tr><td>13253</td><td>Lincoln Ave & Waveland Ave</td><td>41.948797</td><td>-87.675278</td></tr><tr><td>KA1503000044</td><td>Rush St & Hubbard St</td><td>41.890173</td><td>-87.62618499999999</td></tr><tr><td>KA1504000140</td><td>Winchester Ave & Elston Ave</td><td>41.92403733333333</td><td>-87.67641483333334</td></tr><tr><td>TA1305000032</td><td>Clinton St & Madison St</td><td>41.882242</td><td>-87.64106600000001</td></tr><tr><td>TA1306000012</td><td>Wells St & Huron St</td><td>41.89475366666667</td><td>-87.63440200000001</td></tr></tbody></table></div>"
      ]
     },
     "metadata": {
      "application/vnd.databricks.v1+output": {
       "addedWidgets": {},
       "aggData": [],
       "aggError": "",
       "aggOverflow": false,
       "aggSchema": [],
       "aggSeriesLimitReached": false,
       "aggType": "",
       "arguments": {},
       "columnCustomDisplayInfos": {},
       "data": [
        [
         "KA1503000012",
         "Clark St & Lake St",
         "41.88579466666667",
         "-87.63110066666668"
        ],
        [
         "637",
         "Wood St & Chicago Ave",
         "41.895634",
         "-87.672069"
        ],
        [
         "13216",
         "State St & 33rd St",
         "41.8347335",
         "-87.6258275"
        ],
        [
         "18003",
         "Fairbanks St & Superior St",
         "41.89580766666667",
         "-87.62025316666669"
        ],
        [
         "KP1705001026",
         "LaSalle Dr & Huron St",
         "41.894877",
         "-87.632326"
        ],
        [
         "13253",
         "Lincoln Ave & Waveland Ave",
         "41.948797",
         "-87.675278"
        ],
        [
         "KA1503000044",
         "Rush St & Hubbard St",
         "41.890173",
         "-87.62618499999999"
        ],
        [
         "KA1504000140",
         "Winchester Ave & Elston Ave",
         "41.92403733333333",
         "-87.67641483333334"
        ],
        [
         "TA1305000032",
         "Clinton St & Madison St",
         "41.882242",
         "-87.64106600000001"
        ],
        [
         "TA1306000012",
         "Wells St & Huron St",
         "41.89475366666667",
         "-87.63440200000001"
        ]
       ],
       "datasetInfos": [],
       "dbfsResultPath": null,
       "isJsonSchema": true,
       "metadata": {},
       "overflow": false,
       "plotOptions": {
        "customPlotOptions": {},
        "displayType": "table",
        "pivotAggregation": null,
        "pivotColumns": null,
        "xColumns": null,
        "yColumns": null
       },
       "removedWidgets": [],
       "schema": [
        {
         "metadata": "{}",
         "name": "station_id",
         "type": "\"string\""
        },
        {
         "metadata": "{}",
         "name": "name",
         "type": "\"string\""
        },
        {
         "metadata": "{}",
         "name": "latitude",
         "type": "\"string\""
        },
        {
         "metadata": "{}",
         "name": "longitude",
         "type": "\"string\""
        }
       ],
       "type": "table"
      }
     },
     "output_type": "display_data"
    }
   ],
   "source": [
    "stations = spark.table('staging_stations')\n",
    "display(stations.limit(10))"
   ]
  },
  {
   "cell_type": "code",
   "execution_count": 0,
   "metadata": {
    "application/vnd.databricks.v1+cell": {
     "cellMetadata": {
      "byteLimit": 2048000,
      "rowLimit": 10000
     },
     "inputWidgets": {},
     "nuid": "aba38adb-0e16-4c0d-8328-72361ba3bdf4",
     "showTitle": false,
     "title": ""
    }
   },
   "outputs": [],
   "source": [
    "spark.sql('DROP TABLE IF EXISTS dim_station')\n",
    "stations.dropDuplicates(['station_id']).write.format('delta').mode('overwrite').saveAsTable('dim_station')"
   ]
  },
  {
   "cell_type": "code",
   "execution_count": 0,
   "metadata": {
    "application/vnd.databricks.v1+cell": {
     "cellMetadata": {
      "byteLimit": 2048000,
      "rowLimit": 10000
     },
     "inputWidgets": {},
     "nuid": "8cc7cdbd-b18c-4059-8d50-81e43165e061",
     "showTitle": false,
     "title": ""
    }
   },
   "outputs": [
    {
     "output_type": "display_data",
     "data": {
      "text/html": [
       "<style scoped>\n",
       "  .table-result-container {\n",
       "    max-height: 300px;\n",
       "    overflow: auto;\n",
       "  }\n",
       "  table, th, td {\n",
       "    border: 1px solid black;\n",
       "    border-collapse: collapse;\n",
       "  }\n",
       "  th, td {\n",
       "    padding: 5px;\n",
       "  }\n",
       "  th {\n",
       "    text-align: left;\n",
       "  }\n",
       "</style><div class='table-result-container'><table class='table-result'><thead style='background-color: white'><tr><th>station_id</th><th>name</th><th>latitude</th><th>longitude</th></tr></thead><tbody><tr><td>13192</td><td>Halsted St & Dickens Ave</td><td>41.919936</td><td>-87.64883</td></tr><tr><td>KA1504000162</td><td>Clark St & Lunt Ave</td><td>42.009074</td><td>-87.67419</td></tr><tr><td>15634</td><td>Western Ave & Roscoe St</td><td>41.943093</td><td>-87.6873335</td></tr><tr><td>15539</td><td>Desplaines St & Jackson Blvd</td><td>41.878161166666665</td><td>-87.64428766666668</td></tr><tr><td>TA1305000022</td><td>Orleans St & Merchandise Mart Plaza</td><td>41.888243</td><td>-87.63639</td></tr></tbody></table></div>"
      ]
     },
     "metadata": {
      "application/vnd.databricks.v1+output": {
       "addedWidgets": {},
       "aggData": [],
       "aggError": "",
       "aggOverflow": false,
       "aggSchema": [],
       "aggSeriesLimitReached": false,
       "aggType": "",
       "arguments": {},
       "columnCustomDisplayInfos": {},
       "data": [
        [
         "13192",
         "Halsted St & Dickens Ave",
         "41.919936",
         "-87.64883"
        ],
        [
         "KA1504000162",
         "Clark St & Lunt Ave",
         "42.009074",
         "-87.67419"
        ],
        [
         "15634",
         "Western Ave & Roscoe St",
         "41.943093",
         "-87.6873335"
        ],
        [
         "15539",
         "Desplaines St & Jackson Blvd",
         "41.878161166666665",
         "-87.64428766666668"
        ],
        [
         "TA1305000022",
         "Orleans St & Merchandise Mart Plaza",
         "41.888243",
         "-87.63639"
        ]
       ],
       "datasetInfos": [],
       "dbfsResultPath": null,
       "isJsonSchema": true,
       "metadata": {},
       "overflow": false,
       "plotOptions": {
        "customPlotOptions": {},
        "displayType": "table",
        "pivotAggregation": null,
        "pivotColumns": null,
        "xColumns": null,
        "yColumns": null
       },
       "removedWidgets": [],
       "schema": [
        {
         "metadata": "{}",
         "name": "station_id",
         "type": "\"string\""
        },
        {
         "metadata": "{}",
         "name": "name",
         "type": "\"string\""
        },
        {
         "metadata": "{}",
         "name": "latitude",
         "type": "\"string\""
        },
        {
         "metadata": "{}",
         "name": "longitude",
         "type": "\"string\""
        }
       ],
       "type": "table"
      }
     },
     "output_type": "display_data"
    }
   ],
   "source": [
    "dim_station= spark.table('dim_station')\n",
    "display(dim_station.limit(5))"
   ]
  },
  {
   "cell_type": "markdown",
   "metadata": {
    "application/vnd.databricks.v1+cell": {
     "cellMetadata": {
      "byteLimit": 2048000,
      "rowLimit": 10000
     },
     "inputWidgets": {},
     "nuid": "91bdcf75-ab27-4bfd-96b9-82f143edafa8",
     "showTitle": false,
     "title": ""
    }
   },
   "source": [
    "## dim_rider Table"
   ]
  },
  {
   "cell_type": "code",
   "execution_count": 0,
   "metadata": {
    "application/vnd.databricks.v1+cell": {
     "cellMetadata": {
      "byteLimit": 2048000,
      "rowLimit": 10000
     },
     "inputWidgets": {},
     "nuid": "49ec72d5-357b-4c38-a7d3-fc39a61e86a7",
     "showTitle": false,
     "title": ""
    }
   },
   "outputs": [
    {
     "output_type": "display_data",
     "data": {
      "text/html": [
       "<style scoped>\n",
       "  .table-result-container {\n",
       "    max-height: 300px;\n",
       "    overflow: auto;\n",
       "  }\n",
       "  table, th, td {\n",
       "    border: 1px solid black;\n",
       "    border-collapse: collapse;\n",
       "  }\n",
       "  th, td {\n",
       "    padding: 5px;\n",
       "  }\n",
       "  th {\n",
       "    text-align: left;\n",
       "  }\n",
       "</style><div class='table-result-container'><table class='table-result'><thead style='background-color: white'><tr><th>rider_id</th><th>first_name</th><th>last_name</th><th>address</th><th>birthday</th><th>account_start_date</th><th>account_end_date</th><th>is_member</th></tr></thead><tbody><tr><td>1001</td><td>Jennifer</td><td>Smith</td><td>397 Diana Ferry</td><td>1976-08-10</td><td>2019-11-01</td><td>2020-09-01</td><td>True</td></tr><tr><td>1002</td><td>Karen</td><td>Smith</td><td>644 Brittany Row Apt. 097</td><td>1998-08-10</td><td>2022-02-04</td><td>null</td><td>True</td></tr><tr><td>1003</td><td>Bryan</td><td>Roberts</td><td>996 Dickerson Turnpike</td><td>1999-03-29</td><td>2019-08-26</td><td>null</td><td>False</td></tr><tr><td>1004</td><td>Jesse</td><td>Middleton</td><td>7009 Nathan Expressway</td><td>1969-04-11</td><td>2019-09-14</td><td>null</td><td>True</td></tr><tr><td>1005</td><td>Christine</td><td>Rodriguez</td><td>224 Washington Mills Apt. 467</td><td>1974-08-27</td><td>2020-03-24</td><td>null</td><td>False</td></tr></tbody></table></div>"
      ]
     },
     "metadata": {
      "application/vnd.databricks.v1+output": {
       "addedWidgets": {},
       "aggData": [],
       "aggError": "",
       "aggOverflow": false,
       "aggSchema": [],
       "aggSeriesLimitReached": false,
       "aggType": "",
       "arguments": {},
       "columnCustomDisplayInfos": {},
       "data": [
        [
         "1001",
         "Jennifer",
         "Smith",
         "397 Diana Ferry",
         "1976-08-10",
         "2019-11-01",
         "2020-09-01",
         "True"
        ],
        [
         "1002",
         "Karen",
         "Smith",
         "644 Brittany Row Apt. 097",
         "1998-08-10",
         "2022-02-04",
         null,
         "True"
        ],
        [
         "1003",
         "Bryan",
         "Roberts",
         "996 Dickerson Turnpike",
         "1999-03-29",
         "2019-08-26",
         null,
         "False"
        ],
        [
         "1004",
         "Jesse",
         "Middleton",
         "7009 Nathan Expressway",
         "1969-04-11",
         "2019-09-14",
         null,
         "True"
        ],
        [
         "1005",
         "Christine",
         "Rodriguez",
         "224 Washington Mills Apt. 467",
         "1974-08-27",
         "2020-03-24",
         null,
         "False"
        ]
       ],
       "datasetInfos": [],
       "dbfsResultPath": null,
       "isJsonSchema": true,
       "metadata": {},
       "overflow": false,
       "plotOptions": {
        "customPlotOptions": {},
        "displayType": "table",
        "pivotAggregation": null,
        "pivotColumns": null,
        "xColumns": null,
        "yColumns": null
       },
       "removedWidgets": [],
       "schema": [
        {
         "metadata": "{}",
         "name": "rider_id",
         "type": "\"string\""
        },
        {
         "metadata": "{}",
         "name": "first_name",
         "type": "\"string\""
        },
        {
         "metadata": "{}",
         "name": "last_name",
         "type": "\"string\""
        },
        {
         "metadata": "{}",
         "name": "address",
         "type": "\"string\""
        },
        {
         "metadata": "{}",
         "name": "birthday",
         "type": "\"string\""
        },
        {
         "metadata": "{}",
         "name": "account_start_date",
         "type": "\"string\""
        },
        {
         "metadata": "{}",
         "name": "account_end_date",
         "type": "\"string\""
        },
        {
         "metadata": "{}",
         "name": "is_member",
         "type": "\"string\""
        }
       ],
       "type": "table"
      }
     },
     "output_type": "display_data"
    }
   ],
   "source": [
    "riders = spark.table('staging_riders')\n",
    "display(riders.limit(5))"
   ]
  },
  {
   "cell_type": "code",
   "execution_count": 0,
   "metadata": {
    "application/vnd.databricks.v1+cell": {
     "cellMetadata": {
      "byteLimit": 2048000,
      "rowLimit": 10000
     },
     "inputWidgets": {},
     "nuid": "99144d1b-fc5b-448e-8952-9d3f3c97723e",
     "showTitle": false,
     "title": ""
    }
   },
   "outputs": [],
   "source": [
    "spark.sql('DROP TABLE IF EXISTS dim_rider')\n",
    "riders.dropDuplicates(['rider_id']).write.format('delta').mode('overwrite').saveAsTable('dim_rider')"
   ]
  },
  {
   "cell_type": "code",
   "execution_count": 0,
   "metadata": {
    "application/vnd.databricks.v1+cell": {
     "cellMetadata": {
      "byteLimit": 2048000,
      "rowLimit": 10000
     },
     "inputWidgets": {},
     "nuid": "0fa9a489-8684-4e6a-8716-db07d10177f3",
     "showTitle": false,
     "title": ""
    }
   },
   "outputs": [
    {
     "output_type": "display_data",
     "data": {
      "text/html": [
       "<style scoped>\n",
       "  .table-result-container {\n",
       "    max-height: 300px;\n",
       "    overflow: auto;\n",
       "  }\n",
       "  table, th, td {\n",
       "    border: 1px solid black;\n",
       "    border-collapse: collapse;\n",
       "  }\n",
       "  th, td {\n",
       "    padding: 5px;\n",
       "  }\n",
       "  th {\n",
       "    text-align: left;\n",
       "  }\n",
       "</style><div class='table-result-container'><table class='table-result'><thead style='background-color: white'><tr><th>rider_id</th><th>first_name</th><th>last_name</th><th>address</th><th>birthday</th><th>account_start_date</th><th>account_end_date</th><th>is_member</th></tr></thead><tbody><tr><td>1090</td><td>Julie</td><td>Ortiz</td><td>513 Leonard Turnpike</td><td>1992-08-23</td><td>2021-07-07</td><td>null</td><td>True</td></tr><tr><td>1159</td><td>David</td><td>Burns</td><td>8343 William Pike Suite 694</td><td>1991-09-21</td><td>2020-10-30</td><td>null</td><td>True</td></tr><tr><td>1436</td><td>Vincent</td><td>Clark</td><td>47252 Daniel Rapids</td><td>1985-04-05</td><td>2021-01-20</td><td>null</td><td>True</td></tr><tr><td>1512</td><td>Megan</td><td>Johnson</td><td>57672 Mccormick Course</td><td>1979-08-11</td><td>2019-12-27</td><td>null</td><td>True</td></tr><tr><td>1572</td><td>John</td><td>Peterson</td><td>8859 Joshua Throughway Suite 812</td><td>2000-01-25</td><td>2021-03-09</td><td>null</td><td>True</td></tr></tbody></table></div>"
      ]
     },
     "metadata": {
      "application/vnd.databricks.v1+output": {
       "addedWidgets": {},
       "aggData": [],
       "aggError": "",
       "aggOverflow": false,
       "aggSchema": [],
       "aggSeriesLimitReached": false,
       "aggType": "",
       "arguments": {},
       "columnCustomDisplayInfos": {},
       "data": [
        [
         "1090",
         "Julie",
         "Ortiz",
         "513 Leonard Turnpike",
         "1992-08-23",
         "2021-07-07",
         null,
         "True"
        ],
        [
         "1159",
         "David",
         "Burns",
         "8343 William Pike Suite 694",
         "1991-09-21",
         "2020-10-30",
         null,
         "True"
        ],
        [
         "1436",
         "Vincent",
         "Clark",
         "47252 Daniel Rapids",
         "1985-04-05",
         "2021-01-20",
         null,
         "True"
        ],
        [
         "1512",
         "Megan",
         "Johnson",
         "57672 Mccormick Course",
         "1979-08-11",
         "2019-12-27",
         null,
         "True"
        ],
        [
         "1572",
         "John",
         "Peterson",
         "8859 Joshua Throughway Suite 812",
         "2000-01-25",
         "2021-03-09",
         null,
         "True"
        ]
       ],
       "datasetInfos": [],
       "dbfsResultPath": null,
       "isJsonSchema": true,
       "metadata": {},
       "overflow": false,
       "plotOptions": {
        "customPlotOptions": {},
        "displayType": "table",
        "pivotAggregation": null,
        "pivotColumns": null,
        "xColumns": null,
        "yColumns": null
       },
       "removedWidgets": [],
       "schema": [
        {
         "metadata": "{}",
         "name": "rider_id",
         "type": "\"string\""
        },
        {
         "metadata": "{}",
         "name": "first_name",
         "type": "\"string\""
        },
        {
         "metadata": "{}",
         "name": "last_name",
         "type": "\"string\""
        },
        {
         "metadata": "{}",
         "name": "address",
         "type": "\"string\""
        },
        {
         "metadata": "{}",
         "name": "birthday",
         "type": "\"string\""
        },
        {
         "metadata": "{}",
         "name": "account_start_date",
         "type": "\"string\""
        },
        {
         "metadata": "{}",
         "name": "account_end_date",
         "type": "\"string\""
        },
        {
         "metadata": "{}",
         "name": "is_member",
         "type": "\"string\""
        }
       ],
       "type": "table"
      }
     },
     "output_type": "display_data"
    }
   ],
   "source": [
    "dim_rider = spark.table('dim_rider')\n",
    "display(dim_rider.limit(5))"
   ]
  },
  {
   "cell_type": "markdown",
   "metadata": {
    "application/vnd.databricks.v1+cell": {
     "cellMetadata": {
      "byteLimit": 2048000,
      "rowLimit": 10000
     },
     "inputWidgets": {},
     "nuid": "9c0c8cb4-e610-4fd8-ab0c-1fc20b99153a",
     "showTitle": false,
     "title": ""
    }
   },
   "source": [
    "## fact_trip Table"
   ]
  },
  {
   "cell_type": "code",
   "execution_count": 0,
   "metadata": {
    "application/vnd.databricks.v1+cell": {
     "cellMetadata": {
      "byteLimit": 2048000,
      "rowLimit": 10000
     },
     "inputWidgets": {},
     "nuid": "f6a070b3-9497-4074-a951-f910a5e0dd09",
     "showTitle": false,
     "title": ""
    }
   },
   "outputs": [
    {
     "output_type": "display_data",
     "data": {
      "text/html": [
       "<style scoped>\n",
       "  .table-result-container {\n",
       "    max-height: 300px;\n",
       "    overflow: auto;\n",
       "  }\n",
       "  table, th, td {\n",
       "    border: 1px solid black;\n",
       "    border-collapse: collapse;\n",
       "  }\n",
       "  th, td {\n",
       "    padding: 5px;\n",
       "  }\n",
       "  th {\n",
       "    text-align: left;\n",
       "  }\n",
       "</style><div class='table-result-container'><table class='table-result'><thead style='background-color: white'><tr><th>trip_id</th><th>rideable_type</th><th>started_at</th><th>ended_at</th><th>start_station_id</th><th>end_station_id</th><th>rider_id</th></tr></thead><tbody><tr><td>0FEFDE2603568365</td><td>classic_bike</td><td>2021-02-14 17:52:38</td><td>2021-02-14 18:12:09</td><td>525</td><td>16806</td><td>47854</td></tr><tr><td>E6159D746B2DBB91</td><td>electric_bike</td><td>2021-02-09 19:10:18</td><td>2021-02-09 19:19:10</td><td>KA1503000012</td><td>TA1305000029</td><td>70870</td></tr><tr><td>B32D3199F1C2E75B</td><td>classic_bike</td><td>2021-02-02 17:49:41</td><td>2021-02-02 17:54:06</td><td>637</td><td>TA1305000034</td><td>58974</td></tr><tr><td>83E463F23575F4BF</td><td>electric_bike</td><td>2021-02-23 15:07:23</td><td>2021-02-23 15:22:37</td><td>13216</td><td>TA1309000055</td><td>39608</td></tr><tr><td>BDAA7E3494E8D545</td><td>electric_bike</td><td>2021-02-24 15:43:33</td><td>2021-02-24 15:49:05</td><td>18003</td><td>KP1705001026</td><td>36267</td></tr></tbody></table></div>"
      ]
     },
     "metadata": {
      "application/vnd.databricks.v1+output": {
       "addedWidgets": {},
       "aggData": [],
       "aggError": "",
       "aggOverflow": false,
       "aggSchema": [],
       "aggSeriesLimitReached": false,
       "aggType": "",
       "arguments": {},
       "columnCustomDisplayInfos": {},
       "data": [
        [
         "0FEFDE2603568365",
         "classic_bike",
         "2021-02-14 17:52:38",
         "2021-02-14 18:12:09",
         "525",
         "16806",
         "47854"
        ],
        [
         "E6159D746B2DBB91",
         "electric_bike",
         "2021-02-09 19:10:18",
         "2021-02-09 19:19:10",
         "KA1503000012",
         "TA1305000029",
         "70870"
        ],
        [
         "B32D3199F1C2E75B",
         "classic_bike",
         "2021-02-02 17:49:41",
         "2021-02-02 17:54:06",
         "637",
         "TA1305000034",
         "58974"
        ],
        [
         "83E463F23575F4BF",
         "electric_bike",
         "2021-02-23 15:07:23",
         "2021-02-23 15:22:37",
         "13216",
         "TA1309000055",
         "39608"
        ],
        [
         "BDAA7E3494E8D545",
         "electric_bike",
         "2021-02-24 15:43:33",
         "2021-02-24 15:49:05",
         "18003",
         "KP1705001026",
         "36267"
        ]
       ],
       "datasetInfos": [],
       "dbfsResultPath": null,
       "isJsonSchema": true,
       "metadata": {},
       "overflow": false,
       "plotOptions": {
        "customPlotOptions": {},
        "displayType": "table",
        "pivotAggregation": null,
        "pivotColumns": null,
        "xColumns": null,
        "yColumns": null
       },
       "removedWidgets": [],
       "schema": [
        {
         "metadata": "{}",
         "name": "trip_id",
         "type": "\"string\""
        },
        {
         "metadata": "{}",
         "name": "rideable_type",
         "type": "\"string\""
        },
        {
         "metadata": "{}",
         "name": "started_at",
         "type": "\"string\""
        },
        {
         "metadata": "{}",
         "name": "ended_at",
         "type": "\"string\""
        },
        {
         "metadata": "{}",
         "name": "start_station_id",
         "type": "\"string\""
        },
        {
         "metadata": "{}",
         "name": "end_station_id",
         "type": "\"string\""
        },
        {
         "metadata": "{}",
         "name": "rider_id",
         "type": "\"string\""
        }
       ],
       "type": "table"
      }
     },
     "output_type": "display_data"
    }
   ],
   "source": [
    "trips = spark.table('staging_trips')\n",
    "display(trips.limit(5))\n",
    "     "
   ]
  },
  {
   "cell_type": "code",
   "execution_count": 0,
   "metadata": {
    "application/vnd.databricks.v1+cell": {
     "cellMetadata": {
      "byteLimit": 2048000,
      "rowLimit": 10000
     },
     "inputWidgets": {},
     "nuid": "dc889e31-4eab-4ac1-a485-42c5bc79f31f",
     "showTitle": false,
     "title": ""
    }
   },
   "outputs": [],
   "source": [
    "fact_trip = trips.alias('trip').join(riders.alias('rider'), f.col('trip.rider_id') == f.col('rider.rider_id'), 'left')  \\\n",
    "    .withColumn('rider_age', round((unix_timestamp('started_at') - unix_timestamp('rider.birthday','yyyy-MM-dd'))/3600/24/365)) \\\n",
    "    .withColumn('duration', round((unix_timestamp(\"ended_at\") - unix_timestamp('started_at'))/60)) \\\n",
    "    .withColumnRenamed('started_at', 'start_time_id') \\\n",
    "    .withColumnRenamed('ended_at', 'end_time_id') \\\n",
    "    .select('trip_id', col('trip.rider_id'), 'rideable_type', 'start_station_id', 'end_station_id', 'start_time_id', 'duration', 'rider_age') "
   ]
  },
  {
   "cell_type": "code",
   "execution_count": 0,
   "metadata": {
    "application/vnd.databricks.v1+cell": {
     "cellMetadata": {
      "byteLimit": 2048000,
      "rowLimit": 10000
     },
     "inputWidgets": {},
     "nuid": "13418dfd-9313-4e4a-802f-a32eb7d512ff",
     "showTitle": false,
     "title": ""
    }
   },
   "outputs": [
    {
     "output_type": "display_data",
     "data": {
      "text/html": [
       "<style scoped>\n",
       "  .table-result-container {\n",
       "    max-height: 300px;\n",
       "    overflow: auto;\n",
       "  }\n",
       "  table, th, td {\n",
       "    border: 1px solid black;\n",
       "    border-collapse: collapse;\n",
       "  }\n",
       "  th, td {\n",
       "    padding: 5px;\n",
       "  }\n",
       "  th {\n",
       "    text-align: left;\n",
       "  }\n",
       "</style><div class='table-result-container'><table class='table-result'><thead style='background-color: white'><tr><th>trip_id</th><th>rider_id</th><th>rideable_type</th><th>start_station_id</th><th>end_station_id</th><th>start_time_id</th><th>duration</th><th>rider_age</th></tr></thead><tbody><tr><td>0FEFDE2603568365</td><td>47854</td><td>classic_bike</td><td>525</td><td>16806</td><td>2021-02-14 17:52:38</td><td>20.0</td><td>38.0</td></tr><tr><td>E6159D746B2DBB91</td><td>70870</td><td>electric_bike</td><td>KA1503000012</td><td>TA1305000029</td><td>2021-02-09 19:10:18</td><td>9.0</td><td>33.0</td></tr><tr><td>B32D3199F1C2E75B</td><td>58974</td><td>classic_bike</td><td>637</td><td>TA1305000034</td><td>2021-02-02 17:49:41</td><td>4.0</td><td>19.0</td></tr><tr><td>83E463F23575F4BF</td><td>39608</td><td>electric_bike</td><td>13216</td><td>TA1309000055</td><td>2021-02-23 15:07:23</td><td>15.0</td><td>72.0</td></tr><tr><td>BDAA7E3494E8D545</td><td>36267</td><td>electric_bike</td><td>18003</td><td>KP1705001026</td><td>2021-02-24 15:43:33</td><td>6.0</td><td>27.0</td></tr></tbody></table></div>"
      ]
     },
     "metadata": {
      "application/vnd.databricks.v1+output": {
       "addedWidgets": {},
       "aggData": [],
       "aggError": "",
       "aggOverflow": false,
       "aggSchema": [],
       "aggSeriesLimitReached": false,
       "aggType": "",
       "arguments": {},
       "columnCustomDisplayInfos": {},
       "data": [
        [
         "0FEFDE2603568365",
         "47854",
         "classic_bike",
         "525",
         "16806",
         "2021-02-14 17:52:38",
         20.0,
         38.0
        ],
        [
         "E6159D746B2DBB91",
         "70870",
         "electric_bike",
         "KA1503000012",
         "TA1305000029",
         "2021-02-09 19:10:18",
         9.0,
         33.0
        ],
        [
         "B32D3199F1C2E75B",
         "58974",
         "classic_bike",
         "637",
         "TA1305000034",
         "2021-02-02 17:49:41",
         4.0,
         19.0
        ],
        [
         "83E463F23575F4BF",
         "39608",
         "electric_bike",
         "13216",
         "TA1309000055",
         "2021-02-23 15:07:23",
         15.0,
         72.0
        ],
        [
         "BDAA7E3494E8D545",
         "36267",
         "electric_bike",
         "18003",
         "KP1705001026",
         "2021-02-24 15:43:33",
         6.0,
         27.0
        ]
       ],
       "datasetInfos": [],
       "dbfsResultPath": null,
       "isJsonSchema": true,
       "metadata": {},
       "overflow": false,
       "plotOptions": {
        "customPlotOptions": {},
        "displayType": "table",
        "pivotAggregation": null,
        "pivotColumns": null,
        "xColumns": null,
        "yColumns": null
       },
       "removedWidgets": [],
       "schema": [
        {
         "metadata": "{}",
         "name": "trip_id",
         "type": "\"string\""
        },
        {
         "metadata": "{}",
         "name": "rider_id",
         "type": "\"string\""
        },
        {
         "metadata": "{}",
         "name": "rideable_type",
         "type": "\"string\""
        },
        {
         "metadata": "{}",
         "name": "start_station_id",
         "type": "\"string\""
        },
        {
         "metadata": "{}",
         "name": "end_station_id",
         "type": "\"string\""
        },
        {
         "metadata": "{}",
         "name": "start_time_id",
         "type": "\"string\""
        },
        {
         "metadata": "{}",
         "name": "duration",
         "type": "\"double\""
        },
        {
         "metadata": "{}",
         "name": "rider_age",
         "type": "\"double\""
        }
       ],
       "type": "table"
      }
     },
     "output_type": "display_data"
    }
   ],
   "source": [
    "display(fact_trip.limit(5))"
   ]
  },
  {
   "cell_type": "code",
   "execution_count": 0,
   "metadata": {
    "application/vnd.databricks.v1+cell": {
     "cellMetadata": {
      "byteLimit": 2048000,
      "rowLimit": 10000
     },
     "inputWidgets": {},
     "nuid": "6e4b89e0-b4cf-48f4-bce1-b2628d110e66",
     "showTitle": false,
     "title": ""
    }
   },
   "outputs": [],
   "source": [
    "spark.sql('DROP TABLE IF EXISTS fact_trip')\n",
    "fact_trip.dropDuplicates(['trip_id']).write.format('delta').mode('overwrite').saveAsTable('fact_trip')"
   ]
  },
  {
   "cell_type": "markdown",
   "metadata": {
    "application/vnd.databricks.v1+cell": {
     "cellMetadata": {
      "byteLimit": 2048000,
      "rowLimit": 10000
     },
     "inputWidgets": {},
     "nuid": "09f6c4c5-d963-4004-a4c9-b1618bba9a90",
     "showTitle": false,
     "title": ""
    }
   },
   "source": [
    "## dim_date Table"
   ]
  },
  {
   "cell_type": "code",
   "execution_count": 0,
   "metadata": {
    "application/vnd.databricks.v1+cell": {
     "cellMetadata": {
      "byteLimit": 2048000,
      "rowLimit": 10000
     },
     "inputWidgets": {},
     "nuid": "0d1ca3d5-25da-4a9e-a061-52890a999a96",
     "showTitle": false,
     "title": ""
    }
   },
   "outputs": [],
   "source": [
    "max_date = trips.selectExpr('MAX(started_at) AS started_at').first().asDict()['started_at']\n",
    "min_date = trips.selectExpr('MIN(started_at) AS started_at').first().asDict()['started_at']\n",
    "expression = f\"sequence(to_date('{min_date}'), to_date('{max_date}'), interval 1 day)\"\n",
    "dim_date = spark.createDataFrame([(1,)], [\"time_id\"])\n",
    "\n",
    "dim_date = dim_date.withColumn(\"dateinit\", f.explode(f.expr(expression)))\n",
    "dim_date = dim_date.withColumn(\"date\", f.to_timestamp(dim_date.dateinit, \"yyyy-MM-dd\"))\n",
    "\n",
    "dim_date = dim_date \\\n",
    "            .withColumn(\"day\", f.dayofmonth(dim_date.date)) \\\n",
    "            .withColumn(\"month\", f.month(dim_date.date)) \\\n",
    "            .withColumn(\"quarter\", f.quarter(dim_date.date)) \\\n",
    "            .withColumn(\"year\", f.year(dim_date.date)) \\\n",
    "            .withColumn(\"day_of_week\", f.dayofweek(dim_date.date)) \\\n",
    "            .withColumn(\"week_of_year\", f.weekofyear(dim_date.date)) \\\n",
    "            .withColumn(\"time_id\", dim_date.date.cast(StringType())) \\\n",
    "            .drop(f.col(\"dateinit\"))"
   ]
  },
  {
   "cell_type": "code",
   "execution_count": 0,
   "metadata": {
    "application/vnd.databricks.v1+cell": {
     "cellMetadata": {
      "byteLimit": 2048000,
      "rowLimit": 10000
     },
     "inputWidgets": {},
     "nuid": "07cb2790-1afa-4b94-b34a-06889c38ff30",
     "showTitle": false,
     "title": ""
    }
   },
   "outputs": [],
   "source": [
    "spark.sql(\"DROP TABLE IF EXISTS dim_date\")\n",
    "dim_date.write.format(\"delta\").mode(\"overwrite\").saveAsTable(\"default.dim_date\")"
   ]
  },
  {
   "cell_type": "code",
   "execution_count": 0,
   "metadata": {
    "application/vnd.databricks.v1+cell": {
     "cellMetadata": {
      "byteLimit": 2048000,
      "rowLimit": 10000
     },
     "inputWidgets": {},
     "nuid": "339197eb-6818-4dd4-b8df-cf64ff5992ae",
     "showTitle": false,
     "title": ""
    }
   },
   "outputs": [
    {
     "output_type": "display_data",
     "data": {
      "text/html": [
       "<style scoped>\n",
       "  .table-result-container {\n",
       "    max-height: 300px;\n",
       "    overflow: auto;\n",
       "  }\n",
       "  table, th, td {\n",
       "    border: 1px solid black;\n",
       "    border-collapse: collapse;\n",
       "  }\n",
       "  th, td {\n",
       "    padding: 5px;\n",
       "  }\n",
       "  th {\n",
       "    text-align: left;\n",
       "  }\n",
       "</style><div class='table-result-container'><table class='table-result'><thead style='background-color: white'><tr><th>time_id</th><th>date</th><th>day</th><th>month</th><th>quarter</th><th>year</th><th>day_of_week</th><th>week_of_year</th></tr></thead><tbody><tr><td>2021-02-01 00:00:00</td><td>2021-02-01T00:00:00Z</td><td>1</td><td>2</td><td>1</td><td>2021</td><td>2</td><td>5</td></tr><tr><td>2021-02-02 00:00:00</td><td>2021-02-02T00:00:00Z</td><td>2</td><td>2</td><td>1</td><td>2021</td><td>3</td><td>5</td></tr><tr><td>2021-02-03 00:00:00</td><td>2021-02-03T00:00:00Z</td><td>3</td><td>2</td><td>1</td><td>2021</td><td>4</td><td>5</td></tr><tr><td>2021-02-04 00:00:00</td><td>2021-02-04T00:00:00Z</td><td>4</td><td>2</td><td>1</td><td>2021</td><td>5</td><td>5</td></tr><tr><td>2021-02-05 00:00:00</td><td>2021-02-05T00:00:00Z</td><td>5</td><td>2</td><td>1</td><td>2021</td><td>6</td><td>5</td></tr></tbody></table></div>"
      ]
     },
     "metadata": {
      "application/vnd.databricks.v1+output": {
       "addedWidgets": {},
       "aggData": [],
       "aggError": "",
       "aggOverflow": false,
       "aggSchema": [],
       "aggSeriesLimitReached": false,
       "aggType": "",
       "arguments": {},
       "columnCustomDisplayInfos": {},
       "data": [
        [
         "2021-02-01 00:00:00",
         "2021-02-01T00:00:00Z",
         1,
         2,
         1,
         2021,
         2,
         5
        ],
        [
         "2021-02-02 00:00:00",
         "2021-02-02T00:00:00Z",
         2,
         2,
         1,
         2021,
         3,
         5
        ],
        [
         "2021-02-03 00:00:00",
         "2021-02-03T00:00:00Z",
         3,
         2,
         1,
         2021,
         4,
         5
        ],
        [
         "2021-02-04 00:00:00",
         "2021-02-04T00:00:00Z",
         4,
         2,
         1,
         2021,
         5,
         5
        ],
        [
         "2021-02-05 00:00:00",
         "2021-02-05T00:00:00Z",
         5,
         2,
         1,
         2021,
         6,
         5
        ]
       ],
       "datasetInfos": [],
       "dbfsResultPath": null,
       "isJsonSchema": true,
       "metadata": {},
       "overflow": false,
       "plotOptions": {
        "customPlotOptions": {},
        "displayType": "table",
        "pivotAggregation": null,
        "pivotColumns": null,
        "xColumns": null,
        "yColumns": null
       },
       "removedWidgets": [],
       "schema": [
        {
         "metadata": "{}",
         "name": "time_id",
         "type": "\"string\""
        },
        {
         "metadata": "{}",
         "name": "date",
         "type": "\"timestamp\""
        },
        {
         "metadata": "{}",
         "name": "day",
         "type": "\"integer\""
        },
        {
         "metadata": "{}",
         "name": "month",
         "type": "\"integer\""
        },
        {
         "metadata": "{}",
         "name": "quarter",
         "type": "\"integer\""
        },
        {
         "metadata": "{}",
         "name": "year",
         "type": "\"integer\""
        },
        {
         "metadata": "{}",
         "name": "day_of_week",
         "type": "\"integer\""
        },
        {
         "metadata": "{}",
         "name": "week_of_year",
         "type": "\"integer\""
        }
       ],
       "type": "table"
      }
     },
     "output_type": "display_data"
    }
   ],
   "source": [
    "display(dim_date.limit(5))"
   ]
  }
 ],
 "metadata": {
  "application/vnd.databricks.v1+notebook": {
   "dashboards": [],
   "language": "python",
   "notebookMetadata": {
    "pythonIndentUnit": 4
   },
   "notebookName": "Transform: Start schema for a Gold Data Store",
   "widgets": {}
  }
 },
 "nbformat": 4,
 "nbformat_minor": 0
}
