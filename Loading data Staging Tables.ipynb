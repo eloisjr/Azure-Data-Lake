{
 "cells": [
  {
   "cell_type": "markdown",
   "metadata": {
    "application/vnd.databricks.v1+cell": {
     "cellMetadata": {
      "byteLimit": 2048000,
      "rowLimit": 10000
     },
     "inputWidgets": {},
     "nuid": "8a71a4db-e273-4f73-9fca-8796c208a4c6",
     "showTitle": false,
     "title": ""
    }
   },
   "source": [
    "## Staging Payments"
   ]
  },
  {
   "cell_type": "code",
   "execution_count": 0,
   "metadata": {
    "application/vnd.databricks.v1+cell": {
     "cellMetadata": {
      "byteLimit": 2048000,
      "rowLimit": 10000
     },
     "inputWidgets": {},
     "nuid": "e1caa02a-e477-4644-927e-b9aeaaa129f3",
     "showTitle": false,
     "title": ""
    }
   },
   "outputs": [],
   "source": [
    "if(spark._jsparkSession.catalog().tableExists('delta.staging_payments') == True):\n",
    "    spark.sql(\"DROP TABLE IF EXISTS staging_payments\")\n",
    "else:\n",
    "    spark.sql(\"CREATE TABLE staging_payments \" \\\n",
    "  \"USING DELTA LOCATION '/delta/payments'\")"
   ]
  },
  {
   "cell_type": "markdown",
   "metadata": {
    "application/vnd.databricks.v1+cell": {
     "cellMetadata": {
      "byteLimit": 2048000,
      "rowLimit": 10000
     },
     "inputWidgets": {},
     "nuid": "662a662a-50b5-4489-b977-55f2b80d74ad",
     "showTitle": false,
     "title": ""
    }
   },
   "source": [
    "## Staging Riders"
   ]
  },
  {
   "cell_type": "code",
   "execution_count": 0,
   "metadata": {
    "application/vnd.databricks.v1+cell": {
     "cellMetadata": {
      "byteLimit": 2048000,
      "rowLimit": 10000
     },
     "inputWidgets": {},
     "nuid": "6e56c2f1-b1f1-4c09-aa90-2ee6599b8f67",
     "showTitle": false,
     "title": ""
    }
   },
   "outputs": [],
   "source": [
    "if(spark._jsparkSession.catalog().tableExists('delta.staging_riders') == True):\n",
    "    spark.sql(\"DROP TABLE IF EXISTS staging_riders\")\n",
    "else:\n",
    "    spark.sql(\"CREATE TABLE staging_riders \" \\\n",
    "  \"USING DELTA LOCATION '/delta/riders'\")\n"
   ]
  },
  {
   "cell_type": "markdown",
   "metadata": {
    "application/vnd.databricks.v1+cell": {
     "cellMetadata": {
      "byteLimit": 2048000,
      "rowLimit": 10000
     },
     "inputWidgets": {},
     "nuid": "40624c82-f64d-4435-8e61-c26f329b27e9",
     "showTitle": false,
     "title": ""
    }
   },
   "source": [
    "## Staging Stations"
   ]
  },
  {
   "cell_type": "code",
   "execution_count": 0,
   "metadata": {
    "application/vnd.databricks.v1+cell": {
     "cellMetadata": {
      "byteLimit": 2048000,
      "rowLimit": 10000
     },
     "inputWidgets": {},
     "nuid": "9bbc5052-04a1-435a-b4a9-594208bd3501",
     "showTitle": false,
     "title": ""
    }
   },
   "outputs": [],
   "source": [
    "if(spark._jsparkSession.catalog().tableExists('delta.staging_stations') == True):\n",
    "    spark.sql(\"DROP TABLE IF EXISTS staging_stations\")\n",
    "else:\n",
    "    spark.sql(\"CREATE TABLE staging_stations \" \\\n",
    "  \"USING DELTA LOCATION '/delta/stations'\")"
   ]
  },
  {
   "cell_type": "markdown",
   "metadata": {
    "application/vnd.databricks.v1+cell": {
     "cellMetadata": {
      "byteLimit": 2048000,
      "rowLimit": 10000
     },
     "inputWidgets": {},
     "nuid": "034ca495-d794-4859-9dd1-bfbf299155f8",
     "showTitle": false,
     "title": ""
    }
   },
   "source": [
    "## Staging Trips"
   ]
  },
  {
   "cell_type": "code",
   "execution_count": 0,
   "metadata": {
    "application/vnd.databricks.v1+cell": {
     "cellMetadata": {
      "byteLimit": 2048000,
      "rowLimit": 10000
     },
     "inputWidgets": {},
     "nuid": "0b5e781f-3274-4a2d-bc1a-cf47cd0e0473",
     "showTitle": false,
     "title": ""
    }
   },
   "outputs": [],
   "source": [
    "if(spark._jsparkSession.catalog().tableExists('delta.staging_trips') == True):\n",
    "    spark.sql(\"DROP TABLE IF EXISTS staging_trips\")\n",
    "else:\n",
    "    spark.sql(\"CREATE TABLE staging_trips \" \\\n",
    "  \"USING DELTA LOCATION '/delta/trips'\")"
   ]
  }
 ],
 "metadata": {
  "application/vnd.databricks.v1+notebook": {
   "dashboards": [],
   "language": "python",
   "notebookMetadata": {
    "pythonIndentUnit": 4
   },
   "notebookName": "Loading data Staging Tables",
   "widgets": {}
  }
 },
 "nbformat": 4,
 "nbformat_minor": 0
}
